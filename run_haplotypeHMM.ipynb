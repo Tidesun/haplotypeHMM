{
 "cells": [
  {
   "cell_type": "code",
   "execution_count": 14,
   "id": "327655dd",
   "metadata": {},
   "outputs": [],
   "source": [
    "import pandas as pd\n",
    "import numpy as np"
   ]
  },
  {
   "cell_type": "code",
   "execution_count": 15,
   "id": "82193cb7",
   "metadata": {},
   "outputs": [],
   "source": [
    "hap_f_path = 'examples/CCDG_14151_B01_GRM_WGS_2020-08-05_chr19.filtered.shapeit2-duohmm-phased.2504.43-47Mb.ALL.maf01.haps.gz'"
   ]
  },
  {
   "cell_type": "code",
   "execution_count": 16,
   "id": "4f02fddc",
   "metadata": {},
   "outputs": [],
   "source": [
    "# reading the haplotype data\n",
    "df = pd.read_csv(hap_f_path,header=None,sep=' ')"
   ]
  },
  {
   "cell_type": "code",
   "execution_count": 17,
   "id": "9de59f44",
   "metadata": {},
   "outputs": [],
   "source": [
    "# make sure sort by position\n",
    "df = df.sort_values(by=2)\n",
    "genetic_pos = df[2]\n",
    "haps = df.loc[:,5:].values"
   ]
  },
  {
   "cell_type": "code",
   "execution_count": 18,
   "id": "71c087ab",
   "metadata": {},
   "outputs": [],
   "source": [
    "genos = np.full(shape=(haps.shape[0],haps.shape[1]//2),fill_value=-1,dtype=int)\n",
    "## create genotypes by combining each pair of haplotypes\n",
    "for i in range(genos.shape[1]):\n",
    "    genos[:,i] = haps[:,2*i] + haps[:,2*i+1]\n",
    "genos = genos.T"
   ]
  },
  {
   "cell_type": "code",
   "execution_count": 19,
   "id": "4993c84a",
   "metadata": {},
   "outputs": [],
   "source": [
    "# 2504 samples x 26246 SNPs\n",
    "# use first 5 SNPs and first 10 samples\n",
    "genos.shape\n",
    "eval_genos = genos[:10,:5]\n",
    "eval_genetic_pos = genetic_pos.iloc[:5]"
   ]
  },
  {
   "cell_type": "code",
   "execution_count": 20,
   "id": "b638522e",
   "metadata": {},
   "outputs": [],
   "source": [
    "from haplotypeHMM.haplotypeSegmentGraph import haplotypeSegmentGraph\n",
    "from haplotypeHMM.haplotypeHMM import haplotypeHMM"
   ]
  },
  {
   "cell_type": "code",
   "execution_count": 21,
   "id": "27c83fbf",
   "metadata": {},
   "outputs": [],
   "source": [
    "# construct the haplotype graph from the genotypes data. \n",
    "#Here, I enumerate all the combinations of genotypes data as the haplotypes candidates.\n",
    "# B is the number of heterozygous markers in each segment\n",
    "B = 3\n",
    "hap_graph = haplotypeSegmentGraph(eval_genos,eval_genetic_pos,B)"
   ]
  },
  {
   "cell_type": "code",
   "execution_count": 22,
   "id": "9601ee95",
   "metadata": {},
   "outputs": [
    {
     "data": {
      "text/plain": [
       "===========================\n",
       "Number of haplotypes: 4 (~2^2.0)\n",
       "Number of markers: 5\n",
       "Number of nodes (# segment haplotypes(~=B) x # markers): 14\n",
       "==========================="
      ]
     },
     "execution_count": 22,
     "metadata": {},
     "output_type": "execute_result"
    }
   ],
   "source": [
    "# shows the basic information of haplotype graph\n",
    "hap_graph"
   ]
  },
  {
   "cell_type": "code",
   "execution_count": 37,
   "id": "231b91ab",
   "metadata": {},
   "outputs": [
    {
     "data": {
      "text/plain": [
       "===========================\n",
       "Haplotype segment Node: represents a possible haplotype state for this marker in the whole dataset\n",
       "--------------------------\n",
       "Node id: 13\n",
       "Marker id: 0\n",
       "Haplotype: (1, 1)\n",
       "Allele: 1\n",
       "Type(it connects to another segment[inter] or connects to the node in the same segment[intra]): intra\n",
       "Weight (# haplotypes going through this node): 4(~2^2.0)\n",
       "Inner weight(# haplotypes ending at this node): 1 (~2^0.0)\n",
       "Outer weight weight(# haplotypes starting from this node): 4 (~2^2.0)\n",
       "# inner nodes (# nodes connect to it): 0\n",
       "# outer nodes (# nodes it connects to): 1\n",
       "Genetic position: 43000135\n",
       "==========================="
      ]
     },
     "execution_count": 37,
     "metadata": {},
     "output_type": "execute_result"
    }
   ],
   "source": [
    "# shows the basic information of node\n",
    "hap_graph.nodes[0][0]"
   ]
  },
  {
   "cell_type": "code",
   "execution_count": 23,
   "id": "ce04f467",
   "metadata": {},
   "outputs": [],
   "source": [
    "# construct HMM\n",
    "hmm = haplotypeHMM(hap_graph)"
   ]
  },
  {
   "cell_type": "code",
   "execution_count": 24,
   "id": "ecb912f1",
   "metadata": {},
   "outputs": [],
   "source": [
    "# set threads to 1\n",
    "results = hmm.predict(eval_genos,threads=1)"
   ]
  },
  {
   "cell_type": "code",
   "execution_count": 29,
   "id": "260439dd",
   "metadata": {},
   "outputs": [
    {
     "data": {
      "text/plain": [
       "array([[[1, 1, 1, 1, 1],\n",
       "        [1, 1, 1, 1, 1]],\n",
       "\n",
       "       [[1, 1, 0, 1, 0],\n",
       "        [1, 1, 0, 1, 0]],\n",
       "\n",
       "       [[1, 1, 1, 1, 1],\n",
       "        [1, 1, 0, 1, 0]],\n",
       "\n",
       "       [[1, 1, 0, 1, 0],\n",
       "        [1, 1, 0, 1, 0]],\n",
       "\n",
       "       [[1, 1, 0, 1, 0],\n",
       "        [1, 1, 1, 1, 1]],\n",
       "\n",
       "       [[1, 1, 0, 1, 0],\n",
       "        [1, 1, 1, 1, 1]],\n",
       "\n",
       "       [[1, 1, 1, 1, 1],\n",
       "        [1, 1, 1, 1, 1]],\n",
       "\n",
       "       [[1, 1, 1, 1, 1],\n",
       "        [1, 1, 0, 1, 0]],\n",
       "\n",
       "       [[1, 1, 1, 1, 1],\n",
       "        [1, 1, 0, 1, 0]],\n",
       "\n",
       "       [[1, 1, 1, 1, 1],\n",
       "        [1, 1, 1, 1, 1]]])"
      ]
     },
     "execution_count": 29,
     "metadata": {},
     "output_type": "execute_result"
    }
   ],
   "source": [
    "# shows the ground truth\n",
    "labels = []\n",
    "for i in range(haps.shape[1]//2):\n",
    "    labels.append((haps[:,2*i],haps[:,2*i+1]))\n",
    "labels = np.array(labels)\n",
    "labels[:10,:,:5]"
   ]
  },
  {
   "cell_type": "code",
   "execution_count": 30,
   "id": "cc49e4ef",
   "metadata": {},
   "outputs": [
    {
     "data": {
      "text/plain": [
       "array([[[1, 1, 1, 1, 1],\n",
       "        [1, 1, 1, 1, 1]],\n",
       "\n",
       "       [[1, 1, 0, 1, 0],\n",
       "        [1, 1, 0, 1, 0]],\n",
       "\n",
       "       [[1, 1, 1, 1, 1],\n",
       "        [1, 1, 0, 1, 0]],\n",
       "\n",
       "       [[1, 1, 0, 1, 0],\n",
       "        [1, 1, 0, 1, 0]],\n",
       "\n",
       "       [[1, 1, 1, 1, 1],\n",
       "        [1, 1, 0, 1, 0]],\n",
       "\n",
       "       [[1, 1, 1, 1, 1],\n",
       "        [1, 1, 0, 1, 0]],\n",
       "\n",
       "       [[1, 1, 1, 1, 1],\n",
       "        [1, 1, 1, 1, 1]],\n",
       "\n",
       "       [[1, 1, 1, 1, 1],\n",
       "        [1, 1, 0, 1, 0]],\n",
       "\n",
       "       [[1, 1, 1, 1, 1],\n",
       "        [1, 1, 0, 1, 0]],\n",
       "\n",
       "       [[1, 1, 1, 1, 1],\n",
       "        [1, 1, 1, 1, 1]]])"
      ]
     },
     "execution_count": 30,
     "metadata": {},
     "output_type": "execute_result"
    }
   ],
   "source": [
    "# shows the haplotype pairs prediction for each sample\n",
    "results"
   ]
  },
  {
   "cell_type": "code",
   "execution_count": null,
   "id": "bdebeccc",
   "metadata": {},
   "outputs": [],
   "source": []
  }
 ],
 "metadata": {
  "kernelspec": {
   "display_name": "haplotypeHMM [/nfs/turbo/umms-kinfai/haorli/envs/haplotypeHMM]",
   "language": "python",
   "name": "conda_haplotypehmm"
  },
  "language_info": {
   "codemirror_mode": {
    "name": "ipython",
    "version": 3
   },
   "file_extension": ".py",
   "mimetype": "text/x-python",
   "name": "python",
   "nbconvert_exporter": "python",
   "pygments_lexer": "ipython3",
   "version": "3.9.16"
  }
 },
 "nbformat": 4,
 "nbformat_minor": 5
}
